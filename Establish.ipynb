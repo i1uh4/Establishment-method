{
 "cells": [
  {
   "cell_type": "code",
   "execution_count": 23,
   "id": "18eb7257",
   "metadata": {},
   "outputs": [
    {
     "name": "stdout",
     "output_type": "stream",
     "text": [
      "1 [-0.16842513  0.1678386   0.2067294   2.0390069   2.03346536] 0.3\n",
      "2 [-0.16842513  0.1678386   0.2067294   2.0390069   2.03346536] 0.3\n",
      "3 [-0.16891852  0.16833125  0.20632823  2.04051633  2.03493843] 0.299691867444732\n",
      "4 [-0.16990196  0.1693134   0.20552877  2.04353472  2.03788336] 0.2990756023341959\n",
      "5 [-0.17136434  0.17077459  0.20433993  2.04804642  2.04228429] 0.2981531767734476\n"
     ]
    },
    {
     "data": {
      "image/png": "[encoded data removed]",
      "text/plain": [
       "<Figure size 432x288 with 1 Axes>"
      ]
     },
     "metadata": {
      "needs_background": "light"
     },
     "output_type": "display_data"
    }
   ],
   "source": [
    "import math as mt\n",
    "from matplotlib import patches\n",
    "from celluloid import Camera\n",
    "from matplotlib import pyplot\n",
    "import numpy as np\n",
    "\n",
    "def F(n, X, Ay):\n",
    "    f = np.zeros(n)\n",
    "    f[0] = (X[0] + X[2] * mt.cos(3 * mt.pi / 2 - X[3]) + 0.353)\n",
    "    f[1] = (X[1] + X[2] * mt.cos(3 * mt.pi / 2 + X[4]) - 0.353)\n",
    "    f[2] = (X[2] + X[2] * mt.sin(3 * mt.pi / 2 - X[3]) - Ay)\n",
    "    f[3] = ((X[3] + X[4]) * X[2] + (X[1] - X[0]) - (3 * mt.pi / 8))\n",
    "    f[4] = (X[2] + X[2] * mt.sin(3 * mt.pi / 2 + X[4]) - Ay)    \n",
    "    return f\n",
    "\n",
    "def Condition(n, X, Ay):\n",
    "    f = F(n, X, Ay)\n",
    "    for i in range(n):\n",
    "        if (abs(f[i]) > eps):\n",
    "            return 0\n",
    "    return 1\n",
    "\n",
    "def Calculation(n, Ay):\n",
    "    X = np.zeros(n)\n",
    "    while (Condition(n, X, Ay) == False):\n",
    "        for i in range(n):\n",
    "            X[i] = X[i] - F(n, X, Ay)[i] * tau\n",
    "    return X\n",
    "\n",
    "Ay, Uy = 0.3, 0.0     \n",
    "\n",
    "n = 5\n",
    "eps, tau = 1e-3, 5e-3\n",
    "dT, M, p, g = 1e-2, 100, 2000, 9.8066\n",
    "\n",
    "fig = pyplot.figure()\n",
    "ax = pyplot.axes(xlim = (-0.5, 0.5), ylim = (0, 0.4))\n",
    "camera = Camera(fig)\n",
    "\n",
    "for i in range((4 * n ** 2) - 5):\n",
    "    X = Calculation(n, Ay)\n",
    "    print(i + 1, X, Ay)\n",
    "    x1, x2 = X[0], X[1]\n",
    "    l = x2 - x1\n",
    "    y, ph1, ph2 = X[2], X[3], X[4]\n",
    "    Ay += Uy * dT\n",
    "    Uy += (1 / M) * (p * l - M * g) * dT\n",
    "    f1 = patches.Arc((x1, y), 2 * y, 2 * y, angle = 0.0, theta1 = (3 * mt.pi / 2 - ph1) * (180 / mt.pi), theta2 = 3 * 180 / 2, \n",
    "                     linewidth = 1)\n",
    "    f2 = patches.Arc((x2, y), 2 * y, 2 * y, angle = 0.0, theta1 = 3 * 180 / 2, theta2 = (3 * mt.pi / 2 + ph2), \n",
    "                     linewidth = 1)\n",
    "    pyplot.text(-0.2, 0.42, f\"Ay = {Ay}\")\n",
    "    ax.add_patch(f1)\n",
    "    ax.add_patch(f2)\n",
    "    camera.snap()\n",
    "\n",
    "animation = camera.animate()\n",
    "pyplot.show()\n",
    "# animation.save('cylinders.gif', writer = 'imagemagick')\n"
   ]
  },
  {
   "cell_type": "code",
   "execution_count": null,
   "id": "d6f7126f",
   "metadata": {},
   "outputs": [],
   "source": []
  }
 ],
 "metadata": {
  "kernelspec": {
   "display_name": "Python 3 (ipykernel)",
   "language": "python",
   "name": "python3"
  },
  "language_info": {
   "codemirror_mode": {
    "name": "ipython",
    "version": 3
   },
   "file_extension": ".py",
   "mimetype": "text/x-python",
   "name": "python",
   "nbconvert_exporter": "python",
   "pygments_lexer": "ipython3",
   "version": "3.10.4"
  }
 },
 "nbformat": 4,
 "nbformat_minor": 5
}
